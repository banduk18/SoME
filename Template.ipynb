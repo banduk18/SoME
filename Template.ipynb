{
 "cells": [
  {
   "cell_type": "code",
   "execution_count": 70,
   "metadata": {},
   "outputs": [],
   "source": [
    "from abc import ABC, abstractmethod\n",
    " \n",
    "class Victim(ABC):\n",
    "    def initialize_victim(self):\n",
    "        self.get_coords()\n",
    "        self.notify()\n",
    "        self.make_neural_network()\n",
    "        return True\n",
    "        \n",
    "    @abstractmethod\n",
    "    def get_coords(self):\n",
    "        pass\n",
    "    \n",
    "    @abstractmethod\n",
    "    def notify(self):\n",
    "        pass\n",
    "    \n",
    "    @abstractmethod\n",
    "    def make_neural_network(self):\n",
    "        pass\n",
    "    \n",
    "    def make_neural_network(self):\n",
    "        print (\"Neural network created.\")\n"
   ]
  },
  {
   "cell_type": "code",
   "execution_count": 71,
   "metadata": {},
   "outputs": [],
   "source": [
    "class FireVictim(Victim):\n",
    "        def get_coords(self):\n",
    "            print (\"Coords of fire victim found and confirmed.\")\n",
    "        def notify(self):\n",
    "            print (\"Operator have gotten information about fire victim.\")"
   ]
  },
  {
   "cell_type": "code",
   "execution_count": 72,
   "metadata": {},
   "outputs": [],
   "source": [
    "class FloodVictim(Victim):\n",
    "        def get_coords(self):\n",
    "            print (\"Coords of flood victim found and confirmed.\")\n",
    "        def notify(self):\n",
    "            print (\"Operator have gotten information about flood victim.\")"
   ]
  },
  {
   "cell_type": "code",
   "execution_count": 73,
   "metadata": {},
   "outputs": [],
   "source": [
    "class ManmadeVictim(Victim):\n",
    "        def get_coords(self):\n",
    "            print (\"Coords of flood manmade found and confirmed.\")\n",
    "        def notify(self):\n",
    "            print (\"Operator have gotten information about manmade victim.\")"
   ]
  },
  {
   "cell_type": "code",
   "execution_count": 74,
   "metadata": {},
   "outputs": [
    {
     "name": "stdout",
     "output_type": "stream",
     "text": [
      "Coords of fire victim found and confirmed.\n",
      "Operator have gotten information about fire victim.\n",
      "Neural network created.\n",
      "Coords of flood victim found and confirmed.\n",
      "Operator have gotten information about flood victim.\n",
      "Neural network created.\n",
      "Coords of flood manmade found and confirmed.\n",
      "Operator have gotten information about manmade victim.\n",
      "Neural network created.\n"
     ]
    },
    {
     "data": {
      "text/plain": [
       "True"
      ]
     },
     "execution_count": 74,
     "metadata": {},
     "output_type": "execute_result"
    }
   ],
   "source": [
    "fire = FireVictim()\n",
    "fire.initialize_victim()\n",
    "\n",
    "flood = FloodVictim()\n",
    "flood.initialize_victim()\n",
    "\n",
    "manmade = ManmadeVictim()\n",
    "manmade.initialize_victim()"
   ]
  },
  {
   "cell_type": "code",
   "execution_count": 75,
   "metadata": {},
   "outputs": [],
   "source": [
    "import unittest"
   ]
  },
  {
   "cell_type": "code",
   "execution_count": 76,
   "metadata": {},
   "outputs": [
    {
     "name": "stderr",
     "output_type": "stream",
     "text": [
      "."
     ]
    },
    {
     "name": "stdout",
     "output_type": "stream",
     "text": [
      "Coords of flood victim found and confirmed.\n",
      "Operator have gotten information about flood victim.\n",
      "Neural network created.\n"
     ]
    },
    {
     "name": "stderr",
     "output_type": "stream",
     "text": [
      "\n",
      "----------------------------------------------------------------------\n",
      "Ran 1 test in 0.002s\n",
      "\n",
      "OK\n"
     ]
    }
   ],
   "source": [
    "import unittest\n",
    "\n",
    "class TestStringMethods(unittest.TestCase):\n",
    "\n",
    "    def test_create(self):\n",
    "        flood = FloodVictim()\n",
    "        self.assertEqual(flood.initialize_victim(), True)\n",
    "        \n",
    "\n",
    "if __name__ == '__main__':\n",
    "    unittest.main(argv=['first-arg-is-ignored'], exit=False)"
   ]
  },
  {
   "cell_type": "code",
   "execution_count": null,
   "metadata": {},
   "outputs": [],
   "source": []
  }
 ],
 "metadata": {
  "kernelspec": {
   "display_name": "Python 3",
   "language": "python",
   "name": "python3"
  },
  "language_info": {
   "codemirror_mode": {
    "name": "ipython",
    "version": 3
   },
   "file_extension": ".py",
   "mimetype": "text/x-python",
   "name": "python",
   "nbconvert_exporter": "python",
   "pygments_lexer": "ipython3",
   "version": "3.7.4"
  }
 },
 "nbformat": 4,
 "nbformat_minor": 2
}
