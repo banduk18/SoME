{
 "cells": [
  {
   "cell_type": "code",
   "execution_count": 48,
   "metadata": {},
   "outputs": [],
   "source": [
    "from Operator_story import *"
   ]
  },
  {
   "cell_type": "code",
   "execution_count": 37,
   "metadata": {},
   "outputs": [
    {
     "name": "stdout",
     "output_type": "stream",
     "text": [
      "   id           date type_incedent  Numb_of_victims  Numb_of_reinforcements  \\\n",
      "0   1    [2020,4,20]         пожар               45                      34   \n",
      "1   2  [2020, 5, 30]    наводнение               36                     144   \n",
      "\n",
      "    adress  \n",
      "0  Житомир  \n",
      "1    Львов  \n"
     ]
    }
   ],
   "source": [
    "print(frame)"
   ]
  },
  {
   "cell_type": "code",
   "execution_count": 30,
   "metadata": {},
   "outputs": [
    {
     "name": "stdout",
     "output_type": "stream",
     "text": [
      "year: 2020\n",
      "month: 5\n",
      "day: 30\n",
      "type of incedent (пожар, наводнение, техногенный, другие): наводнение\n",
      "numb of victims: 36\n",
      "input numb of reinforce: 144\n",
      "Adress: Львов\n"
     ]
    }
   ],
   "source": [
    "create_new_incedent()"
   ]
  },
  {
   "cell_type": "code",
   "execution_count": 38,
   "metadata": {},
   "outputs": [],
   "source": [
    "del_incedent(2)"
   ]
  },
  {
   "cell_type": "code",
   "execution_count": 40,
   "metadata": {},
   "outputs": [
    {
     "name": "stdout",
     "output_type": "stream",
     "text": [
      "   id         date type_incedent  Numb_of_victims  Numb_of_reinforcements  \\\n",
      "0   1  [2020,4,20]         пожар               45                      34   \n",
      "\n",
      "    adress  \n",
      "0  Житомир  \n"
     ]
    }
   ],
   "source": [
    "print(frame)"
   ]
  },
  {
   "cell_type": "code",
   "execution_count": 41,
   "metadata": {},
   "outputs": [
    {
     "data": {
      "text/plain": [
       "id                                  1\n",
       "date                      [2020,4,20]\n",
       "type_incedent                   пожар\n",
       "Numb_of_victims                    45\n",
       "Numb_of_reinforcements             34\n",
       "adress                        Житомир\n",
       "Name: 0, dtype: object"
      ]
     },
     "execution_count": 41,
     "metadata": {},
     "output_type": "execute_result"
    }
   ],
   "source": [
    "get_incedent(1)"
   ]
  },
  {
   "cell_type": "code",
   "execution_count": 43,
   "metadata": {},
   "outputs": [
    {
     "name": "stdout",
     "output_type": "stream",
     "text": [
      "year: 1986\n",
      "month: 4\n",
      "day: 22\n",
      "type of incedent (пожар, наводнение, техногенный, другие): техногенный\n",
      "numb of victims: 4000\n",
      "input numb of reinforce: 300\n",
      "Adress: Чернобыль\n"
     ]
    }
   ],
   "source": [
    "create_new_incedent()"
   ]
  },
  {
   "cell_type": "code",
   "execution_count": 47,
   "metadata": {},
   "outputs": [
    {
     "name": "stdout",
     "output_type": "stream",
     "text": [
      "Enter which column you want to edit: date, type_incedent, Numb_of_victims, Numb_of_reinforce, adress? adress\n",
      "Now value is:  Чернобыль\n",
      "Adress: Припять\n",
      "Do you want to change anything else in this line? y/n: n\n"
     ]
    }
   ],
   "source": [
    "edit_incedent(2)"
   ]
  },
  {
   "cell_type": "code",
   "execution_count": 49,
   "metadata": {},
   "outputs": [
    {
     "name": "stdout",
     "output_type": "stream",
     "text": [
      "   id           date type_incedent  Numb_of_victims  Numb_of_reinforcements  \\\n",
      "0   1    [2020,4,20]         пожар               45                      34   \n",
      "1   2  [1986, 4, 22]   техногенный             4000                     300   \n",
      "\n",
      "    adress  \n",
      "0  Житомир  \n",
      "1  Припять  \n"
     ]
    }
   ],
   "source": [
    "print(frame)"
   ]
  },
  {
   "cell_type": "code",
   "execution_count": null,
   "metadata": {},
   "outputs": [],
   "source": []
  }
 ],
 "metadata": {
  "kernelspec": {
   "display_name": "Python 3",
   "language": "python",
   "name": "python3"
  },
  "language_info": {
   "codemirror_mode": {
    "name": "ipython",
    "version": 3
   },
   "file_extension": ".py",
   "mimetype": "text/x-python",
   "name": "python",
   "nbconvert_exporter": "python",
   "pygments_lexer": "ipython3",
   "version": "3.7.4"
  }
 },
 "nbformat": 4,
 "nbformat_minor": 2
}
