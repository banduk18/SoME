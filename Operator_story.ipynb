{
 "cells": [
  {
   "cell_type": "code",
   "execution_count": 1,
   "metadata": {},
   "outputs": [],
   "source": [
    "import pandas as pd#Подключяем модуль Пандас для работы с массивами ввиде таблицы"
   ]
  },
  {
   "cell_type": "code",
   "execution_count": 2,
   "metadata": {},
   "outputs": [],
   "source": [
    "frame = pd.read_csv('incedents.tsv', header = 0, sep = '\\t')#cчитывание с файла"
   ]
  },
  {
   "cell_type": "code",
   "execution_count": 3,
   "metadata": {},
   "outputs": [],
   "source": [
    "def create_new_incedent():\n",
    "    global frame\n",
    "    ind = 0\n",
    "    while(ind == 0):#начало ввода\n",
    "        id = frame.id.iloc[-1]+1 #id\n",
    "        while (ind == 0): #date\n",
    "            date = []\n",
    "            while(ind == 0):#year\n",
    "                year=int(input(\"year: \"))\n",
    "                if (year < 0):\n",
    "                    print('not correct, please try again\\n')\n",
    "                else:\n",
    "                    ind = 1\n",
    "                    date.append(year)\n",
    "            ind = 0\n",
    "            while(ind==0):#month\n",
    "                month=int(input(\"month: \"))\n",
    "                if (month < 0 or month > 12):\n",
    "                    print('not correct, please try again\\n')\n",
    "                else:\n",
    "                    date.append(month)\n",
    "                    ind = 1\n",
    "            ind = 0\n",
    "            while(ind==0):#day\n",
    "                day=int(input(\"day: \"))\n",
    "                if (day < 0 or day > 31):\n",
    "                    print('not correct, please try again\\n')\n",
    "                else:\n",
    "                    date.append(day)\n",
    "                    ind = 1\n",
    "                    \n",
    "        ind = 0\n",
    "        while(ind==0):#type\n",
    "            type_incedent = input('type of incedent (пожар, наводнение, техногенный, другие): ')\n",
    "            if(type_incedent == 'пожар' or type_incedent == 'наводнение' or type_incedent == 'техногенный' or type_incedent =='другие'):\n",
    "                ind = 1\n",
    "            else:\n",
    "                print('not correct, please, try again\\n')\n",
    "        ind = 0\n",
    "        while(ind==0):#victims\n",
    "            victims=int(input(\"numb of victims: \"))\n",
    "            if (victims < 0):\n",
    "                print('not correct, please try again\\n')\n",
    "            else:\n",
    "                ind = 1\n",
    "        ind = 0\n",
    "        while (ind == 0):#reinforce\n",
    "            reinforce = int(input(\"input numb of reinforce: \"))\n",
    "            if (reinforce < 0):\n",
    "                print('not correct, please try again\\n')\n",
    "            else:\n",
    "                ind = 1\n",
    "        ind = 0\n",
    "        while (ind == 0):#adress\n",
    "            adress = input(\"Adress: \")\n",
    "            if (adress == ''):\n",
    "                print('not correct, please try again\\n')\n",
    "            else:\n",
    "                ind = 1\n",
    "    new_line = {'id':id, 'date':date,'type_incedent':type_incedent,'Numb_of_victims':victims, 'Numb_of_reinforcements':reinforce, 'adress':adress}\n",
    "    frame = frame.append(new_line, ignore_index = True)\n",
    "        "
   ]
  },
  {
   "cell_type": "code",
   "execution_count": 4,
   "metadata": {},
   "outputs": [],
   "source": [
    "def get_incedent(id):#обращение к инциденту за id\n",
    "    global frame\n",
    "    return frame.iloc[id-1]"
   ]
  },
  {
   "cell_type": "code",
   "execution_count": 5,
   "metadata": {},
   "outputs": [],
   "source": [
    "def del_incedent(id):#удаление инцидента за id\n",
    "    global frame\n",
    "    frame = frame.drop([id-1],axis=0)"
   ]
  },
  {
   "cell_type": "code",
   "execution_count": 6,
   "metadata": {},
   "outputs": [],
   "source": [
    "def edit_incedent(id):#редактирование строки\n",
    "    global frame\n",
    "    ind = 0\n",
    "    while(ind==0):\n",
    "        editoring = input('Enter which column you want to edit: date, type_incedent, Numb_of_victims, Numb_of_reinforce, adress? ')\n",
    "        if (editoring == 'date'):\n",
    "            print (\"Now value is: \",frame.loc[id-1,'date'])\n",
    "            while (ind == 0): #date\n",
    "                date = []\n",
    "                while(ind == 0):#year\n",
    "                    year=int(input(\"year: \"))\n",
    "                    if (year < 0):\n",
    "                        print('not correct, please try again\\n')\n",
    "                    else:\n",
    "                        ind = 1\n",
    "                        date.append(year)\n",
    "                ind = 0\n",
    "                while(ind==0):#month\n",
    "                    month=int(input(\"month: \"))\n",
    "                    if (month < 0 or month > 12):\n",
    "                        print('not correct, please try again\\n')\n",
    "                    else:\n",
    "                        date.append(month)\n",
    "                        ind = 1\n",
    "                ind = 0\n",
    "                while(ind==0):#day\n",
    "                    day=int(input(\"day: \"))\n",
    "                    if (day < 0 or day > 31):\n",
    "                        print('not correct, please try again\\n')\n",
    "                    else:\n",
    "                        date.append(day)\n",
    "                        ind = 1\n",
    "            frame.loc[id-1,'date']=date\n",
    "        elif (editoring == 'type_incedent'):\n",
    "            print (\"Now value is: \",frame.loc[id-1,'type_incedent'])\n",
    "            while(ind==0):#type\n",
    "                type_incedent = input('type of incedent (пожар, наводнение, техногенный, другие): ')\n",
    "                if(type_incedent == 'пожар' or type_incedent == 'наводнение' or type_incedent == 'техногенный' or type_incdedent =='другие'):\n",
    "                    ind = 1\n",
    "                else:\n",
    "                    print('not correct, please, try again\\n')\n",
    "            frame.loc[id-1,'type_incedent']=type_incedent\n",
    "        elif (editoring == 'Numb_of_victims'):\n",
    "            print (\"Now value is: \",frame.loc[id-1,'Numb_of_victim'])\n",
    "            while(ind==0):#victims\n",
    "                victims=int(input(\"numb of victims: \"))\n",
    "                if (victims < 0):\n",
    "                    print('not correct, please try again\\n')\n",
    "                else:\n",
    "                    ind = 1\n",
    "            frame.loc[id-1,'Numb_of_victims']=victims\n",
    "        elif (editoring == 'Numb_of_reinforce'):\n",
    "            print (\"Now value is: \",frame.loc[id-1,'Numb_of_reinforce'])\n",
    "            while (ind == 0):#reinforce\n",
    "                reinforce = int(input(\"input numb of reinforce: \"))\n",
    "                if (reinforce < 0):\n",
    "                    print('not correct, please try again\\n')\n",
    "                else:\n",
    "                    ind = 1\n",
    "            frame.loc[id-1,'Numb_of_reinforce']=reinforce\n",
    "        elif(editoring == 'adress'): \n",
    "            print (\"Now value is: \",frame.loc[id-1,'adress'])\n",
    "            while (ind == 0):#adress\n",
    "                adress = input(\"Adress: \")\n",
    "                if (adress == ''):\n",
    "                    print('not correct, please try again\\n')\n",
    "                else:\n",
    "                    ind = 1\n",
    "            frame.loc[id-1,'adress']=adress\n",
    "        else:\n",
    "            print('Someone wrong, try again\\n')\n",
    "        temp = input('Do you want to change anything else in this line? y/n: ')\n",
    "        if(temp=='y'):\n",
    "            ind=0"
   ]
  },
  {
   "cell_type": "code",
   "execution_count": null,
   "metadata": {},
   "outputs": [
    {
     "name": "stdout",
     "output_type": "stream",
     "text": [
      "year: 2020\n",
      "month: 5\n",
      "day: 13\n"
     ]
    }
   ],
   "source": [
    "create_new_incedent()"
   ]
  },
  {
   "cell_type": "code",
   "execution_count": null,
   "metadata": {},
   "outputs": [],
   "source": [
    "    "
   ]
  }
 ],
 "metadata": {
  "kernelspec": {
   "display_name": "Python 3",
   "language": "python",
   "name": "python3"
  },
  "language_info": {
   "codemirror_mode": {
    "name": "ipython",
    "version": 3
   },
   "file_extension": ".py",
   "mimetype": "text/x-python",
   "name": "python",
   "nbconvert_exporter": "python",
   "pygments_lexer": "ipython3",
   "version": "3.7.4"
  }
 },
 "nbformat": 4,
 "nbformat_minor": 2
}
