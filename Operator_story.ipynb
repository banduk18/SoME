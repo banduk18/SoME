{
 "cells": [
  {
   "cell_type": "code",
   "execution_count": null,
   "metadata": {},
   "outputs": [],
   "source": [
    "import pandas as pd#Подключяем модуль Пандас для работы с массивами ввиде таблицы"
   ]
  },
  {
   "cell_type": "code",
   "execution_count": null,
   "metadata": {},
   "outputs": [],
   "source": [
    "frame = pd.read_csv('incedents.tsv', header = 0, sep = '\\t')#cчитывание с файла"
   ]
  },
  {
   "cell_type": "code",
   "execution_count": null,
   "metadata": {},
   "outputs": [],
   "source": [
    "   def check_value(data):\n",
    "        if (data[0][0]<0):\n",
    "            return False\n",
    "        if (data[0][1]<0 or data[0][1]>12):\n",
    "            return False\n",
    "        if (data[0][2]<0 or data[0][2]>31):\n",
    "            return False\n",
    "        if (data[1]!='пожар'):\n",
    "            if(data[1]!='наводнение'):\n",
    "                if(data[1]!='технгенная'):\n",
    "                    if(data[1]!='другие'):\n",
    "                        return False\n",
    "        if (data[2]<0):\n",
    "            return False\n",
    "        if (data[3]<0):\n",
    "            return False\n",
    "        if (data[4]==''):\n",
    "            return False\n",
    "        return True"
   ]
  },
  {
   "cell_type": "code",
   "execution_count": 32,
   "metadata": {},
   "outputs": [],
   "source": [
    "class Operator:\n",
    "    def __init__(self, name):\n",
    "        self.name = name\n",
    "    def create_new_incedent(self, data):\n",
    "        global frame\n",
    "        if(check_value(data)):\n",
    "            id = frame.id.iloc[-1]+1 #id\n",
    "            new_line = {'id':id, 'date':data[0],'type_incedent':data[1],'Numb_of_victims':data[2], 'Numb_of_reinforcements':data[3], 'adress':data[4]}\n",
    "            frame = frame.append(new_line, ignore_index = True)\n",
    "            return True\n",
    "        else:\n",
    "            return False\n",
    "    def get_incedent(self, id):#обращение к инциденту за id\n",
    "        global frame\n",
    "        return frame.iloc[id-1]\n",
    "    def get_all(self):#Вывод всех эл\n",
    "        global frame\n",
    "        return frame\n",
    "    def save_change(self):#сохранение изм\n",
    "        global frame\n",
    "        frame.to_csv('incdents.tsv')\n",
    "        return True\n",
    "    def del_incedent(self, id):#удаление инцидента за id\n",
    "        global frame\n",
    "        frame = frame.drop([id-1],axis=0)\n",
    "        return True\n",
    "    def edit_incedent(self, id, place, new_value):#редактирование\n",
    "        global frame\n",
    "        frame.loc[id,place]=new_value\n",
    "        return True"
   ]
  },
  {
   "cell_type": "code",
   "execution_count": 1,
   "metadata": {},
   "outputs": [
    {
     "name": "stderr",
     "output_type": "stream",
     "text": [
      "EEE\n",
      "======================================================================\n",
      "ERROR: test_create (__main__.TestStringMethods)\n",
      "----------------------------------------------------------------------\n",
      "Traceback (most recent call last):\n",
      "  File \"<ipython-input-1-9b8f5ea24b0e>\", line 7, in test_create\n",
      "    operator = Operator('guy')\n",
      "NameError: name 'Operator' is not defined\n",
      "\n",
      "======================================================================\n",
      "ERROR: test_del (__main__.TestStringMethods)\n",
      "----------------------------------------------------------------------\n",
      "Traceback (most recent call last):\n",
      "  File \"<ipython-input-1-9b8f5ea24b0e>\", line 21, in test_del\n",
      "    operator = Operator('guy')\n",
      "NameError: name 'Operator' is not defined\n",
      "\n",
      "======================================================================\n",
      "ERROR: test_edit (__main__.TestStringMethods)\n",
      "----------------------------------------------------------------------\n",
      "Traceback (most recent call last):\n",
      "  File \"<ipython-input-1-9b8f5ea24b0e>\", line 17, in test_edit\n",
      "    operator = Operator('guy')\n",
      "NameError: name 'Operator' is not defined\n",
      "\n",
      "----------------------------------------------------------------------\n",
      "Ran 3 tests in 0.012s\n",
      "\n",
      "FAILED (errors=3)\n"
     ]
    }
   ],
   "source": [
    "import unittest\n",
    "\n",
    "class TestStringMethods(unittest.TestCase):\n",
    "\n",
    "    def test_create(self):\n",
    "        data = [[1986,4,4],'пожар',45,34,'Киев']\n",
    "        operator = Operator('guy')\n",
    "        self.assertEqual(operator.create_new_incedent(data), True)\n",
    "    def get(self):\n",
    "        id = 1\n",
    "        operator = Operator('guy')\n",
    "        self.assertEqual(operator.get_incedent(id))\n",
    "    def test_edit(self):\n",
    "        id = 1\n",
    "        place = 'adress'\n",
    "        new_value = 'Одесса'\n",
    "        operator = Operator('guy')\n",
    "        self.assertEqual(operator.edit_incedent(id, place, new_value), True)\n",
    "    def test_del(self):\n",
    "        id = 1\n",
    "        operator = Operator('guy')\n",
    "        self.assertEqual(operator.del_incedent(1), True)\n",
    "    def save(self):\n",
    "        operator = Operator('guy')\n",
    "        self.assertEqual(operator.save_change(), True)\n",
    "    def get_all(self):\n",
    "        operator = Operator('guy')\n",
    "        self.assertEqual(operator.get_all(), True)\n",
    "\n",
    "        \n",
    "if __name__ == '__main__':\n",
    "    unittest.main(argv=['first-arg-is-ignored'], exit=False)"
   ]
  },
  {
   "cell_type": "code",
   "execution_count": null,
   "metadata": {},
   "outputs": [],
   "source": []
  }
 ],
 "metadata": {
  "kernelspec": {
   "display_name": "Python 3",
   "language": "python",
   "name": "python3"
  },
  "language_info": {
   "codemirror_mode": {
    "name": "ipython",
    "version": 3
   },
   "file_extension": ".py",
   "mimetype": "text/x-python",
   "name": "python",
   "nbconvert_exporter": "python",
   "pygments_lexer": "ipython3",
   "version": "3.7.4"
  }
 },
 "nbformat": 4,
 "nbformat_minor": 2
}
