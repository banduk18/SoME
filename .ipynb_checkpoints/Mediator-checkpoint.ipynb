{
 "cells": [
  {
   "cell_type": "code",
   "execution_count": 13,
   "metadata": {},
   "outputs": [
    {
     "name": "stdout",
     "output_type": "stream",
     "text": [
      "Client triggers operation A.\n",
      "Component 1 does A.\n",
      "Mediator reacts on A and triggers following operations:\n",
      "Component 2 does C.\n",
      "\n",
      "Client triggers operation D.\n",
      "Component 2 does D.\n",
      "Mediator reacts on D and triggers following operations:\n",
      "Component 1 does B.\n",
      "Component 2 does C.\n"
     ]
    }
   ],
   "source": [
    "from __future__ import annotations\n",
    "from abc import ABC\n",
    "\n",
    "\n",
    "class Mediator(ABC):\n",
    "    def notify(self, sender: object, event: str) -> None:\n",
    "        pass\n",
    "\n",
    "class ConcreteMediator(Mediator):\n",
    "    def __init__(self, component1: Component1, component2: Component2) -> None:\n",
    "        self._component1 = component1\n",
    "        self._component1.mediator = self\n",
    "        self._component2 = component2\n",
    "        self._component2.mediator = self\n",
    "\n",
    "    def notify(self, sender: object, event: str) -> None:\n",
    "        if event == \"vitnes\":\n",
    "            print(\"send message about incedente to operator\")\n",
    "            self._component2.do_c()\n",
    "            self._component2.do_d()\n",
    "        elif event == \"operator\":\n",
    "            print(\"gives instruction\")\n",
    "            self._component1.do_a()\n",
    "            self._component1.do_b()\n",
    "\n",
    "\n",
    "class BaseComponent:\n",
    "    def __init__(self, mediator: Mediator = None) -> None:\n",
    "        self._mediator = mediator\n",
    "\n",
    "    @property\n",
    "    def mediator(self) -> Mediator:\n",
    "        return self._mediator\n",
    "\n",
    "    @mediator.setter\n",
    "    def mediator(self, mediator: Mediator) -> None:\n",
    "        self._mediator = mediator\n",
    "\n",
    "\n",
    "class Component1(BaseComponent):\n",
    "    def do_a(self) -> None:\n",
    "        print(\"Vitnes created.\")\n",
    "        self.mediator.notify(self, \"vitnes\")\n",
    "    def do_b(self) -> None:\n",
    "        print(\"Vitnes ok.\")\n",
    "class Component2(BaseComponent):\n",
    "    def do_c(self) -> None:\n",
    "        print(\"Operator created.\")\n",
    "        self.mediator.notify(self, \"operator\")\n",
    "    def do_d(self) -> None:\n",
    "        print(\"Operator ok.\")\n",
    "        return True\n",
    "\n",
    "if __name__ == \"__main__\":\n",
    "    c1 = Component1()\n",
    "    c2 = Component2()\n",
    "    mediator = ConcreteMediator(c1, c2)\n",
    "\n",
    "    print(\"Client triggers operation A.\")\n",
    "    c1.do_a()\n",
    "\n",
    "    print(\"\\n\", end=\"\")\n",
    "\n",
    "    print(\"Client triggers operation C.\")\n",
    "    c2.do_c()"
   ]
  },
  {
   "cell_type": "code",
   "execution_count": 8,
   "metadata": {},
   "outputs": [],
   "source": [
    "import unittest"
   ]
  },
  {
   "cell_type": "code",
   "execution_count": 14,
   "metadata": {},
   "outputs": [
    {
     "name": "stderr",
     "output_type": "stream",
     "text": [
      "."
     ]
    },
    {
     "name": "stdout",
     "output_type": "stream",
     "text": [
      "Component 1 does A.\n",
      "Mediator reacts on A and triggers following operations:\n",
      "Component 2 does C.\n"
     ]
    },
    {
     "name": "stderr",
     "output_type": "stream",
     "text": [
      "\n",
      "----------------------------------------------------------------------\n",
      "Ran 1 test in 0.002s\n",
      "\n",
      "OK\n"
     ]
    }
   ],
   "source": [
    "class TestStringMethods(unittest.TestCase):\n",
    "\n",
    "    def test_do_d(self) -> None:\n",
    "        c1 = Component1()\n",
    "        c2 = Component2()\n",
    "        mediator = ConcreteMediator(c1, c2)\n",
    "        c1.do_a()\n",
    "        \n",
    "\n",
    "if __name__ == '__main__':\n",
    "    unittest.main(argv=['first-arg-is-ignored'], exit=False)"
   ]
  },
  {
   "cell_type": "code",
   "execution_count": null,
   "metadata": {},
   "outputs": [],
   "source": []
  }
 ],
 "metadata": {
  "kernelspec": {
   "display_name": "Python 3",
   "language": "python",
   "name": "python3"
  },
  "language_info": {
   "codemirror_mode": {
    "name": "ipython",
    "version": 3
   },
   "file_extension": ".py",
   "mimetype": "text/x-python",
   "name": "python",
   "nbconvert_exporter": "python",
   "pygments_lexer": "ipython3",
   "version": "3.7.4"
  }
 },
 "nbformat": 4,
 "nbformat_minor": 2
}
