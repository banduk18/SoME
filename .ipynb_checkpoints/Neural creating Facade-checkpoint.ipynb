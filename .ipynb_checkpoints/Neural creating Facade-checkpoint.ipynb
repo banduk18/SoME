{
 "cells": [
  {
   "cell_type": "code",
   "execution_count": 9,
   "metadata": {},
   "outputs": [
    {
     "name": "stdout",
     "output_type": "stream",
     "text": [
      "data pushed to server\n",
      "data converted to json format\n",
      "neural network created via data from list\n"
     ]
    },
    {
     "data": {
      "text/plain": [
       "True"
      ]
     },
     "execution_count": 9,
     "metadata": {},
     "output_type": "execute_result"
    }
   ],
   "source": [
    "class NeuralNetwork:\n",
    "\n",
    "    def create_neural(self, list):\n",
    "        print ('neural network created via data from list')\n",
    "        \n",
    "class Vitnes:\n",
    "\n",
    "    def make_push(self, data):\n",
    "        print ('data pushed to server')\n",
    "        \n",
    "class Server:\n",
    "\n",
    "    def convert_data_to_json(self, list):\n",
    "        print ('data converted to json format')\n",
    "        return True\n",
    "        \n",
    "class Facade:\n",
    "    def __init__(self, first_subsystem, second_subsystem, third_subsystem):\n",
    "        self.subsystemA = first_subsystem\n",
    "        self.subsystemB = second_subsystem\n",
    "        self.subsystemC = third_subsystem\n",
    "        \n",
    "    def make_full_analyze(self, data):\n",
    "        reforsed_data = self.subsystemB.make_push(data)\n",
    "        converted_data = self.subsystemC.convert_data_to_json(reforsed_data)\n",
    "        self.subsystemA.create_neural(converted_data)\n",
    "        return True\n",
    "\n",
    "    def stop(self):\n",
    "        print (\"Analyze stopped\")\n",
    "        return False\n",
    "\n",
    "server = Server()\n",
    "vitnes = Vitnes()\n",
    "neural = NeuralNetwork()\n",
    "list = ['data', 'data', 'data']\n",
    "\n",
    "facade = Facade(neural, vitnes, server)\n",
    "facade.make_full_analyze(list)"
   ]
  },
  {
   "cell_type": "code",
   "execution_count": 6,
   "metadata": {},
   "outputs": [],
   "source": [
    "import unittest"
   ]
  },
  {
   "cell_type": "code",
   "execution_count": 10,
   "metadata": {},
   "outputs": [
    {
     "name": "stderr",
     "output_type": "stream",
     "text": [
      "F."
     ]
    },
    {
     "name": "stdout",
     "output_type": "stream",
     "text": [
      "Analyze stopped\n",
      "data pushed to server\n",
      "data converted to json format\n",
      "neural network created via data from list\n"
     ]
    },
    {
     "name": "stderr",
     "output_type": "stream",
     "text": [
      "\n",
      "======================================================================\n",
      "FAIL: test_failed_execution_of_facade (__main__.TestStringMethods)\n",
      "----------------------------------------------------------------------\n",
      "Traceback (most recent call last):\n",
      "  File \"<ipython-input-10-b4b198677780>\", line 19, in test_failed_execution_of_facade\n",
      "    self.assertEqual(facade.stop(), True)\n",
      "AssertionError: False != True\n",
      "\n",
      "----------------------------------------------------------------------\n",
      "Ran 2 tests in 0.003s\n",
      "\n",
      "FAILED (failures=1)\n"
     ]
    }
   ],
   "source": [
    "class TestStringMethods(unittest.TestCase):\n",
    "\n",
    "    def test_successed_execution_of_facade(self):\n",
    "        server = Server()\n",
    "        vitnes = Vitnes()\n",
    "        neural = NeuralNetwork()\n",
    "        list = ['data', 'data', 'data']\n",
    "\n",
    "        facade = Facade(neural, vitnes, server)\n",
    "        self.assertEqual(facade.make_full_analyze(list), True)\n",
    "        \n",
    "    def test_failed_execution_of_facade(self):\n",
    "        server = Server()\n",
    "        vitnes = Vitnes()\n",
    "        neural = NeuralNetwork()\n",
    "        list = ['data', 'data', 'data']\n",
    "\n",
    "        facade = Facade(neural, vitnes, server)\n",
    "        self.assertEqual(facade.stop(), False)\n",
    "\n",
    "if __name__ == '__main__':\n",
    "    unittest.main(argv=['first-arg-is-ignored'], exit=False)"
   ]
  },
  {
   "cell_type": "code",
   "execution_count": null,
   "metadata": {},
   "outputs": [],
   "source": []
  }
 ],
 "metadata": {
  "kernelspec": {
   "display_name": "Python 3",
   "language": "python",
   "name": "python3"
  }
 },
 "nbformat": 4,
 "nbformat_minor": 2
}
