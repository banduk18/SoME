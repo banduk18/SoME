{
 "cells": [
  {
   "cell_type": "code",
   "execution_count": 4,
   "metadata": {},
   "outputs": [
    {
     "name": "stdout",
     "output_type": "stream",
     "text": [
      "data pushed to server\n",
      "data converted to json format\n"
     ]
    },
    {
     "ename": "TypeError",
     "evalue": "create_neural() missing 1 required positional argument: 'list'",
     "output_type": "error",
     "traceback": [
      "\u001b[1;31m---------------------------------------------------------------------------\u001b[0m",
      "\u001b[1;31mTypeError\u001b[0m                                 Traceback (most recent call last)",
      "\u001b[1;32m<ipython-input-4-651a98f17cc4>\u001b[0m in \u001b[0;36m<module>\u001b[1;34m\u001b[0m\n\u001b[0;32m     35\u001b[0m \u001b[1;33m\u001b[0m\u001b[0m\n\u001b[0;32m     36\u001b[0m \u001b[0mfacade\u001b[0m \u001b[1;33m=\u001b[0m \u001b[0mFacade\u001b[0m\u001b[1;33m(\u001b[0m\u001b[0mneural\u001b[0m\u001b[1;33m,\u001b[0m \u001b[0mvitnes\u001b[0m\u001b[1;33m,\u001b[0m \u001b[0mserver\u001b[0m\u001b[1;33m)\u001b[0m\u001b[1;33m\u001b[0m\u001b[1;33m\u001b[0m\u001b[0m\n\u001b[1;32m---> 37\u001b[1;33m \u001b[0mfacade\u001b[0m\u001b[1;33m.\u001b[0m\u001b[0mmake_full_analyze\u001b[0m\u001b[1;33m(\u001b[0m\u001b[0mlist\u001b[0m\u001b[1;33m)\u001b[0m\u001b[1;33m\u001b[0m\u001b[1;33m\u001b[0m\u001b[0m\n\u001b[0m",
      "\u001b[1;32m<ipython-input-4-651a98f17cc4>\u001b[0m in \u001b[0;36mmake_full_analyze\u001b[1;34m(self, data)\u001b[0m\n\u001b[0;32m     24\u001b[0m         \u001b[0mreforsed_data\u001b[0m \u001b[1;33m=\u001b[0m \u001b[0mself\u001b[0m\u001b[1;33m.\u001b[0m\u001b[0msubsystemB\u001b[0m\u001b[1;33m.\u001b[0m\u001b[0mmake_push\u001b[0m\u001b[1;33m(\u001b[0m\u001b[0mdata\u001b[0m\u001b[1;33m)\u001b[0m\u001b[1;33m\u001b[0m\u001b[1;33m\u001b[0m\u001b[0m\n\u001b[0;32m     25\u001b[0m         \u001b[0mconverted_data\u001b[0m \u001b[1;33m=\u001b[0m \u001b[0mself\u001b[0m\u001b[1;33m.\u001b[0m\u001b[0msubsystemC\u001b[0m\u001b[1;33m.\u001b[0m\u001b[0mconvert_data_to_json\u001b[0m\u001b[1;33m(\u001b[0m\u001b[0mreforsed_data\u001b[0m\u001b[1;33m)\u001b[0m\u001b[1;33m\u001b[0m\u001b[1;33m\u001b[0m\u001b[0m\n\u001b[1;32m---> 26\u001b[1;33m         \u001b[0mself\u001b[0m\u001b[1;33m.\u001b[0m\u001b[0msubsystemA\u001b[0m\u001b[1;33m.\u001b[0m\u001b[0mcreate_neural\u001b[0m\u001b[1;33m(\u001b[0m\u001b[1;33m)\u001b[0m\u001b[1;33m\u001b[0m\u001b[1;33m\u001b[0m\u001b[0m\n\u001b[0m\u001b[0;32m     27\u001b[0m \u001b[1;33m\u001b[0m\u001b[0m\n\u001b[0;32m     28\u001b[0m     \u001b[1;32mdef\u001b[0m \u001b[0mstop\u001b[0m\u001b[1;33m(\u001b[0m\u001b[1;33m)\u001b[0m\u001b[1;33m:\u001b[0m\u001b[1;33m\u001b[0m\u001b[1;33m\u001b[0m\u001b[0m\n",
      "\u001b[1;31mTypeError\u001b[0m: create_neural() missing 1 required positional argument: 'list'"
     ]
    }
   ],
   "source": [
    "class NeuralNetwork:\n",
    "\n",
    "    def create_neural(self, list):\n",
    "        print ('neural network created via data from list')\n",
    "        \n",
    "class Vitnes:\n",
    "\n",
    "    def make_push(self, data):\n",
    "        print ('data pushed to server')\n",
    "        return data\n",
    "        \n",
    "class Server:\n",
    "\n",
    "    def convert_data_to_json(self, list):\n",
    "        print ('data converted to json format')\n",
    "        \n",
    "class Facade:\n",
    "    def __init__(self, first_subsystem, second_subsystem, third_subsystem):\n",
    "        self.subsystemA = first_subsystem\n",
    "        self.subsystemB = second_subsystem\n",
    "        self.subsystemC = third_subsystem\n",
    "        \n",
    "    def make_full_analyze(self, data):\n",
    "        reforsed_data = self.subsystemB.make_push(data)\n",
    "        converted_data = self.subsystemC.convert_data_to_json(reforsed_data)\n",
    "        self.subsystemA.create_neural(converted_data)\n",
    "\n",
    "    def stop():\n",
    "        print (\"Analyze stopped\")\n",
    "\n",
    "server = Server()\n",
    "vitnes = Vitnes()\n",
    "neural = NeuralNetwork()\n",
    "list = ['data', 'data', 'data']\n",
    "\n",
    "facade = Facade(neural, vitnes, server)\n",
    "facade.make_full_analyze(list)"
   ]
  },
  {
   "cell_type": "code",
   "execution_count": null,
   "metadata": {},
   "outputs": [],
   "source": []
  }
 ],
 "metadata": {
  "kernelspec": {
   "display_name": "Python 3",
   "language": "python",
   "name": "python3"
  }
 },
 "nbformat": 4,
 "nbformat_minor": 2
}
