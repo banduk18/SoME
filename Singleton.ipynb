{
 "cells": [
  {
   "cell_type": "code",
   "execution_count": 3,
   "metadata": {},
   "outputs": [
    {
     "ename": "ModuleNotFoundError",
     "evalue": "No module named 'Operator_story'",
     "output_type": "error",
     "traceback": [
      "\u001b[1;31m---------------------------------------------------------------------------\u001b[0m",
      "\u001b[1;31mModuleNotFoundError\u001b[0m                       Traceback (most recent call last)",
      "\u001b[1;32m<ipython-input-3-52b2b90db39d>\u001b[0m in \u001b[0;36m<module>\u001b[1;34m\u001b[0m\n\u001b[1;32m----> 1\u001b[1;33m \u001b[1;32mfrom\u001b[0m \u001b[0mOperator_story\u001b[0m \u001b[1;32mimport\u001b[0m \u001b[0mOperator\u001b[0m\u001b[1;33m\u001b[0m\u001b[1;33m\u001b[0m\u001b[0m\n\u001b[0m",
      "\u001b[1;31mModuleNotFoundError\u001b[0m: No module named 'Operator_story'"
     ]
    }
   ],
   "source": []
  },
  {
   "cell_type": "code",
   "execution_count": 14,
   "metadata": {},
   "outputs": [
    {
     "name": "stdout",
     "output_type": "stream",
     "text": [
      "Object created <__main__.OperatorSingleton object at 0x000001E3E0D45188>\n",
      "Object created <__main__.OperatorSingleton object at 0x000001E3E0D45188>\n"
     ]
    }
   ],
   "source": [
    "class OperatorSingleton(object):\n",
    "    def __new__(cls):\n",
    "        if not hasattr(cls, 'instance'):\n",
    "            cls.instance = super(OperatorSingleton, cls).__new__(cls)\n",
    "        return cls.instance\n",
    "    def create_new_incedent(self, data):\n",
    "        global frame\n",
    "        if(check_value(data)):\n",
    "            id = frame.id.iloc[-1]+1 #id\n",
    "            new_line = {'id':id, 'date':data[0],'type_incedent':data[1],'Numb_of_victims':data[2], 'Numb_of_reinforcements':data[3], 'adress':data[4]}\n",
    "            frame = frame.append(new_line, ignore_index = True)\n",
    "            return True\n",
    "        else:\n",
    "            return False\n",
    "    def get_incedent(self, id):#обращение к инциденту за id\n",
    "        global frame\n",
    "        return frame.iloc[id-1]\n",
    "    def get_all(self):#Вывод всех эл\n",
    "        global frame\n",
    "        return frame\n",
    "    def save_change(self):#сохранение изм\n",
    "        global frame\n",
    "        frame.to_csv('incdents.tsv')\n",
    "        return True\n",
    "    def del_incedent(self, id):#удаление инцидента за id\n",
    "        global frame\n",
    "        frame = frame.drop([id-1],axis=0)\n",
    "        return True\n",
    "    def edit_incedent(self, id, place, new_value):#редактирование\n",
    "        global frame\n",
    "        frame.loc[id,place]=new_value\n",
    "        return True\n",
    "    \n",
    "    \n",
    "first_op = OperatorSingleton()\n",
    "print(\"Object created\", first_op)\n",
    "second_op = OperatorSingleton()\n",
    "print(\"Object created\", second_op)"
   ]
  },
  {
   "cell_type": "code",
   "execution_count": null,
   "metadata": {},
   "outputs": [],
   "source": []
  },
  {
   "cell_type": "code",
   "execution_count": null,
   "metadata": {},
   "outputs": [],
   "source": []
  }
 ],
 "metadata": {
  "kernelspec": {
   "display_name": "Python 3",
   "language": "python",
   "name": "python3"
  },
  "language_info": {
   "codemirror_mode": {
    "name": "ipython",
    "version": 3
   },
   "file_extension": ".py",
   "mimetype": "text/x-python",
   "name": "python",
   "nbconvert_exporter": "python",
   "pygments_lexer": "ipython3",
   "version": "3.7.4"
  }
 },
 "nbformat": 4,
 "nbformat_minor": 2
}
